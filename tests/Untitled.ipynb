{
 "cells": [
  {
   "cell_type": "code",
   "execution_count": 2,
   "id": "a3702434-1ab7-4a4f-afd8-f8481ca8fa57",
   "metadata": {},
   "outputs": [],
   "source": [
    "import re\n",
    "from pathlib import Path"
   ]
  },
  {
   "cell_type": "code",
   "execution_count": 6,
   "id": "f583172c-c33f-402e-ab34-4fa32d1c88dd",
   "metadata": {},
   "outputs": [],
   "source": [
    "ADDR_HINTS = r\"(ул|улица|шоссе|ш\\.|просп|пр-т|пер|переул|дом|д\\.|кв|ком|к.|корп|г\\.|город|респ|обл|район|р-он)\""
   ]
  },
  {
   "cell_type": "code",
   "execution_count": 4,
   "id": "36b2aab4-44b9-486f-9702-a7dbe203fe8c",
   "metadata": {},
   "outputs": [],
   "source": [
    "txt=Path('./documents/adr.txt').read_text(encoding=\"utf-8\")"
   ]
  },
  {
   "cell_type": "code",
   "execution_count": 7,
   "id": "db71e6b9-aa58-44ec-9b28-039be519b024",
   "metadata": {},
   "outputs": [
    {
     "data": {
      "text/plain": [
       "<re.Match object; span=(19, 21), match='ко'>"
      ]
     },
     "execution_count": 7,
     "metadata": {},
     "output_type": "execute_result"
    }
   ],
   "source": [
    "re.search(ADDR_HINTS, txt, flags=re.IGNORECASE)"
   ]
  }
 ],
 "metadata": {
  "kernelspec": {
   "display_name": "Python 3 (ipykernel)",
   "language": "python",
   "name": "python3"
  },
  "language_info": {
   "codemirror_mode": {
    "name": "ipython",
    "version": 3
   },
   "file_extension": ".py",
   "mimetype": "text/x-python",
   "name": "python",
   "nbconvert_exporter": "python",
   "pygments_lexer": "ipython3",
   "version": "3.12.5"
  }
 },
 "nbformat": 4,
 "nbformat_minor": 5
}
